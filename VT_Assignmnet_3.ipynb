{
  "nbformat": 4,
  "nbformat_minor": 0,
  "metadata": {
    "colab": {
      "name": "VT-Assignmnet-3.ipynb",
      "provenance": []
    },
    "kernelspec": {
      "name": "python3",
      "display_name": "Python 3"
    },
    "accelerator": "GPU"
  },
  "cells": [
    {
      "cell_type": "code",
      "metadata": {
        "id": "GfR_p0Egu2yD"
      },
      "source": [
        "import os, cv2\n",
        "import numpy as np\n",
        "import tensorflow as tf\n",
        "from tensorflow.python import keras\n",
        "\n",
        "from keras.models import Sequential, Model\n",
        "from keras.layers import Dense, Dropout, Flatten, AveragePooling2D, AvgPool2D, MaxPool2D\n",
        "from keras.layers.convolutional import Conv2D, MaxPooling2D\n",
        "from keras.optimizers import SGD\n",
        "from keras.layers import BatchNormalization\n",
        "from keras.preprocessing.image import ImageDataGenerator\n",
        "from keras.preprocessing.image import img_to_array, array_to_img, load_img\n",
        "from keras.utils import np_utils\n",
        "from keras.callbacks import ModelCheckpoint\n",
        "\n",
        "from sklearn.model_selection import train_test_split\n",
        "from sklearn.preprocessing import LabelEncoder\n",
        "from sklearn.utils import shuffle\n",
        "\n",
        "import matplotlib.image as mpimg\n",
        "import matplotlib.pyplot as plt\n",
        "import matplotlib\n",
        "%matplotlib inline\n",
        "\n",
        "import warnings\n",
        "warnings.filterwarnings('ignore')"
      ],
      "execution_count": 1,
      "outputs": []
    },
    {
      "cell_type": "code",
      "metadata": {
        "id": "Ry1XUx_e0yMr",
        "outputId": "1d3fd9d6-afbb-4b3d-a150-eb888e1048fc",
        "colab": {
          "base_uri": "https://localhost:8080/",
          "height": 51
        }
      },
      "source": [
        "data_dir = '../content/car and truck/'\n",
        "\n",
        "images = []\n",
        "car_types = []\n",
        "for car_type in [\"car\",\"truck\"]:\n",
        "    car_dir = data_dir + car_type\n",
        "    car_files = [car_dir + '/' + filename for filename in os.listdir(car_dir)]\n",
        "    #print(car_files)\n",
        "    for filename in car_files:\n",
        "        if filename.endswith('jpg'):\n",
        "            try:\n",
        "                images.append(cv2.resize(cv2.imread(filename), (224,224), interpolation=cv2.INTER_CUBIC))\n",
        "                car_types.append(car_type)\n",
        "            except Exception as e:\n",
        "                print(str(e))\n",
        "            \n",
        "            \n",
        "images = np.array(images)\n",
        "car_types = np.array(car_types)\n",
        "\n",
        "le = LabelEncoder()\n",
        "car_types_encoded = le.fit_transform(car_types)\n",
        "car_types_encoded_onehot = np_utils.to_categorical(car_types_encoded)"
      ],
      "execution_count": 2,
      "outputs": [
        {
          "output_type": "stream",
          "text": [
            "OpenCV(4.1.2) /io/opencv/modules/imgproc/src/resize.cpp:3720: error: (-215:Assertion failed) !ssize.empty() in function 'resize'\n",
            "\n"
          ],
          "name": "stdout"
        }
      ]
    },
    {
      "cell_type": "code",
      "metadata": {
        "id": "_-ROgUm15BI0",
        "outputId": "7215e2e0-fc3a-4fa9-c9be-8503dd19f660",
        "colab": {
          "base_uri": "https://localhost:8080/",
          "height": 136
        }
      },
      "source": [
        "print(car_types_encoded_onehot)"
      ],
      "execution_count": 3,
      "outputs": [
        {
          "output_type": "stream",
          "text": [
            "[[1. 0.]\n",
            " [1. 0.]\n",
            " [1. 0.]\n",
            " ...\n",
            " [0. 1.]\n",
            " [0. 1.]\n",
            " [0. 1.]]\n"
          ],
          "name": "stdout"
        }
      ]
    },
    {
      "cell_type": "code",
      "metadata": {
        "id": "B_yiki_s1LsE",
        "outputId": "8e5176f4-9dbe-4588-9558-ce2718bf3c20",
        "colab": {
          "base_uri": "https://localhost:8080/",
          "height": 34
        }
      },
      "source": [
        "images, car_types, car_types_encoded = shuffle(images, car_types, car_types_encoded)\n",
        "car_types_encoded.resize((images.shape[0],1))\n",
        "print(car_types_encoded.shape)"
      ],
      "execution_count": 4,
      "outputs": [
        {
          "output_type": "stream",
          "text": [
            "(588, 1)\n"
          ],
          "name": "stdout"
        }
      ]
    },
    {
      "cell_type": "code",
      "metadata": {
        "id": "IbV6wpBx1nW9",
        "outputId": "575969fa-2297-405b-e0d0-59c904d58c87",
        "colab": {
          "base_uri": "https://localhost:8080/",
          "height": 34
        }
      },
      "source": [
        "print(images.shape)"
      ],
      "execution_count": 5,
      "outputs": [
        {
          "output_type": "stream",
          "text": [
            "(588, 224, 224, 3)\n"
          ],
          "name": "stdout"
        }
      ]
    },
    {
      "cell_type": "code",
      "metadata": {
        "id": "R60DtWn25Vfp"
      },
      "source": [
        "car_types_encoded = car_types_encoded.reshape((images.shape[0],1))\n",
        "car_types_2class = np.zeros((images.shape[0],2))\n",
        "for i in range(images.shape[0]):\n",
        "    if car_types_encoded[i][0] == 0:\n",
        "        car_types_2class[i][0] = 1\n",
        "    else:\n",
        "        car_types_2class[i][1] = 1\n",
        "#print(car_types_2class[1:100,:])\n",
        "x_train, x_val, y_train, y_val = train_test_split(images, car_types_2class, test_size=0.2, random_state=0)\n",
        "x_train = x_train / 255\n",
        "x_val = x_val / 255\n",
        "\n",
        "train_datagen  = ImageDataGenerator(rescale=1./255,\n",
        "                                 horizontal_flip=True,\n",
        "                                 validation_split=0.2)\n",
        "test_datagen = ImageDataGenerator(rescale=1./255)\n",
        "\n",
        "train_generator = train_datagen.flow(x_train,y_train,batch_size=32)\n",
        "test_generator = test_datagen.flow(x_val,y_val,batch_size=32)"
      ],
      "execution_count": 6,
      "outputs": []
    },
    {
      "cell_type": "code",
      "metadata": {
        "id": "fYt_NBOD5ddp",
        "outputId": "918058dd-cd71-4387-eb3c-3f041d734386",
        "colab": {
          "base_uri": "https://localhost:8080/",
          "height": 136
        }
      },
      "source": [
        "print(car_types_2class)"
      ],
      "execution_count": 7,
      "outputs": [
        {
          "output_type": "stream",
          "text": [
            "[[1. 0.]\n",
            " [0. 1.]\n",
            " [1. 0.]\n",
            " ...\n",
            " [0. 1.]\n",
            " [1. 0.]\n",
            " [0. 1.]]\n"
          ],
          "name": "stdout"
        }
      ]
    },
    {
      "cell_type": "markdown",
      "metadata": {
        "id": "pizNz-bM3EyH"
      },
      "source": [
        "# LeNet-5"
      ]
    },
    {
      "cell_type": "code",
      "metadata": {
        "id": "a_opfEMnpkHR"
      },
      "source": [
        "import keras\n",
        "import tensorflow as tf\n",
        "keras.backend.clear_session()"
      ],
      "execution_count": 8,
      "outputs": []
    },
    {
      "cell_type": "code",
      "metadata": {
        "id": "Bt1ECbjs2RoF",
        "outputId": "e39f8db6-a793-4610-cd1a-4f1150781836",
        "colab": {
          "base_uri": "https://localhost:8080/",
          "height": 105
        }
      },
      "source": [
        "\n",
        "classifier=Sequential()\n",
        "classifier.add(Conv2D(filters=6,kernel_size=(5,5),strides=(1,1),activation='tanh',input_shape=(224, 224, 3)))\n",
        "classifier.add(AveragePooling2D(pool_size=(2,2),strides=(2,2)))\n",
        "classifier.add(Conv2D(filters=16,kernel_size=(5,5),strides=(1,1),activation='tanh'))\n",
        "classifier.add(AveragePooling2D(pool_size=(2,2),strides=(2,2)))\n",
        "classifier.add(Conv2D(filters=120,kernel_size=(5,5),strides=(1,1),activation='tanh'))\n",
        "classifier.add(Flatten())\n",
        "classifier.add(Dense(units=84,activation='tanh'))\n",
        "classifier.add(Dense(units=2,activation='softmax'))\n",
        "\n",
        "classifier.compile(loss='binary_crossentropy',metrics=['accuracy'],optimizer='adam')"
      ],
      "execution_count": 9,
      "outputs": [
        {
          "output_type": "execute_result",
          "data": {
            "application/vnd.google.colaboratory.intrinsic+json": {
              "type": "string"
            },
            "text/plain": [
              "\"\\nclassifier=Sequential()\\nclassifier.add(Conv2D(filters=6,kernel_size=5,strides=(1,1),activation='sigmoid',input_shape=(224, 224, 3)))\\nclassifier.add(AvgPool2D(pool_size=2, strides=2))\\nclassifier.add(Conv2D(filters=16,kernel_size=5,activation='sigmoid'))\\nclassifier.add(AvgPool2D(pool_size=2, strides=2))\\nclassifier.add(Dense(120,activation='sigmoid'))\\nclassifier.add(Flatten())\\nclassifier.add(Dense(units=84,activation='sigmoid'))\\nclassifier.add(Dense(units=2,activation='sigmoid'))\\n\\nclassifier.compile(loss='binary_crossentropy',metrics=['accuracy'],optimizer='adam')\\n\""
            ]
          },
          "metadata": {
            "tags": []
          },
          "execution_count": 9
        }
      ]
    },
    {
      "cell_type": "code",
      "metadata": {
        "id": "S55ln-CVjmCc",
        "outputId": "950b695b-1da0-4da0-85b6-608f3a5749e2",
        "colab": {
          "base_uri": "https://localhost:8080/",
          "height": 425
        }
      },
      "source": [
        "classifier.summary()"
      ],
      "execution_count": 10,
      "outputs": [
        {
          "output_type": "stream",
          "text": [
            "Model: \"sequential\"\n",
            "_________________________________________________________________\n",
            "Layer (type)                 Output Shape              Param #   \n",
            "=================================================================\n",
            "conv2d (Conv2D)              (None, 220, 220, 6)       456       \n",
            "_________________________________________________________________\n",
            "average_pooling2d (AveragePo (None, 110, 110, 6)       0         \n",
            "_________________________________________________________________\n",
            "conv2d_1 (Conv2D)            (None, 106, 106, 16)      2416      \n",
            "_________________________________________________________________\n",
            "average_pooling2d_1 (Average (None, 53, 53, 16)        0         \n",
            "_________________________________________________________________\n",
            "conv2d_2 (Conv2D)            (None, 49, 49, 120)       48120     \n",
            "_________________________________________________________________\n",
            "flatten (Flatten)            (None, 288120)            0         \n",
            "_________________________________________________________________\n",
            "dense (Dense)                (None, 84)                24202164  \n",
            "_________________________________________________________________\n",
            "dense_1 (Dense)              (None, 2)                 170       \n",
            "=================================================================\n",
            "Total params: 24,253,326\n",
            "Trainable params: 24,253,326\n",
            "Non-trainable params: 0\n",
            "_________________________________________________________________\n"
          ],
          "name": "stdout"
        }
      ]
    },
    {
      "cell_type": "code",
      "metadata": {
        "id": "VLyXqzPL5o5e",
        "outputId": "898a378f-b668-4009-b8d7-300ac11e92da",
        "colab": {
          "base_uri": "https://localhost:8080/",
          "height": 768
        }
      },
      "source": [
        "nb_epoch = 20\n",
        "history = classifier.fit_generator(train_generator,\n",
        "                    epochs=nb_epoch,validation_data = test_generator)"
      ],
      "execution_count": 11,
      "outputs": [
        {
          "output_type": "stream",
          "text": [
            "WARNING:tensorflow:From <ipython-input-11-1de98ab4dfeb>:3: Model.fit_generator (from tensorflow.python.keras.engine.training) is deprecated and will be removed in a future version.\n",
            "Instructions for updating:\n",
            "Please use Model.fit, which supports generators.\n",
            "Epoch 1/20\n",
            "15/15 [==============================] - 2s 110ms/step - loss: 0.8253 - accuracy: 0.5213 - val_loss: 0.6902 - val_accuracy: 0.5424\n",
            "Epoch 2/20\n",
            "15/15 [==============================] - 1s 80ms/step - loss: 0.6935 - accuracy: 0.5383 - val_loss: 0.6836 - val_accuracy: 0.5847\n",
            "Epoch 3/20\n",
            "15/15 [==============================] - 1s 81ms/step - loss: 0.6898 - accuracy: 0.5447 - val_loss: 0.6757 - val_accuracy: 0.5424\n",
            "Epoch 4/20\n",
            "15/15 [==============================] - 1s 81ms/step - loss: 0.6541 - accuracy: 0.6064 - val_loss: 0.6832 - val_accuracy: 0.5424\n",
            "Epoch 5/20\n",
            "15/15 [==============================] - 1s 82ms/step - loss: 0.6349 - accuracy: 0.6638 - val_loss: 0.6961 - val_accuracy: 0.5508\n",
            "Epoch 6/20\n",
            "15/15 [==============================] - 1s 81ms/step - loss: 0.5973 - accuracy: 0.6830 - val_loss: 0.8371 - val_accuracy: 0.5000\n",
            "Epoch 7/20\n",
            "15/15 [==============================] - 1s 82ms/step - loss: 0.6536 - accuracy: 0.6255 - val_loss: 0.7591 - val_accuracy: 0.5339\n",
            "Epoch 8/20\n",
            "15/15 [==============================] - 1s 81ms/step - loss: 0.6267 - accuracy: 0.6574 - val_loss: 0.6981 - val_accuracy: 0.5847\n",
            "Epoch 9/20\n",
            "15/15 [==============================] - 1s 81ms/step - loss: 0.5648 - accuracy: 0.6894 - val_loss: 0.8365 - val_accuracy: 0.5847\n",
            "Epoch 10/20\n",
            "15/15 [==============================] - 1s 81ms/step - loss: 0.5221 - accuracy: 0.7234 - val_loss: 0.7713 - val_accuracy: 0.5763\n",
            "Epoch 11/20\n",
            "15/15 [==============================] - 1s 82ms/step - loss: 0.4540 - accuracy: 0.7830 - val_loss: 0.8773 - val_accuracy: 0.5593\n",
            "Epoch 12/20\n",
            "15/15 [==============================] - 1s 83ms/step - loss: 0.4365 - accuracy: 0.7745 - val_loss: 0.8959 - val_accuracy: 0.5678\n",
            "Epoch 13/20\n",
            "15/15 [==============================] - 1s 80ms/step - loss: 0.4377 - accuracy: 0.8000 - val_loss: 1.0232 - val_accuracy: 0.5508\n",
            "Epoch 14/20\n",
            "15/15 [==============================] - 1s 83ms/step - loss: 0.4143 - accuracy: 0.8149 - val_loss: 0.9468 - val_accuracy: 0.5508\n",
            "Epoch 15/20\n",
            "15/15 [==============================] - 1s 81ms/step - loss: 0.3894 - accuracy: 0.8128 - val_loss: 1.0456 - val_accuracy: 0.5678\n",
            "Epoch 16/20\n",
            "15/15 [==============================] - 1s 81ms/step - loss: 0.3514 - accuracy: 0.8426 - val_loss: 1.0697 - val_accuracy: 0.5678\n",
            "Epoch 17/20\n",
            "15/15 [==============================] - 1s 82ms/step - loss: 0.3424 - accuracy: 0.8574 - val_loss: 1.2449 - val_accuracy: 0.5593\n",
            "Epoch 18/20\n",
            "15/15 [==============================] - 1s 81ms/step - loss: 0.3077 - accuracy: 0.8553 - val_loss: 1.1718 - val_accuracy: 0.5339\n",
            "Epoch 19/20\n",
            "15/15 [==============================] - 1s 82ms/step - loss: 0.3115 - accuracy: 0.8617 - val_loss: 1.3066 - val_accuracy: 0.5508\n",
            "Epoch 20/20\n",
            "15/15 [==============================] - 1s 81ms/step - loss: 0.2802 - accuracy: 0.8660 - val_loss: 1.3997 - val_accuracy: 0.5508\n"
          ],
          "name": "stdout"
        }
      ]
    },
    {
      "cell_type": "code",
      "metadata": {
        "id": "rg-cDvNVB-K5",
        "outputId": "820a9a80-4a82-4b82-8a30-2e35487d0300",
        "colab": {
          "base_uri": "https://localhost:8080/",
          "height": 300
        }
      },
      "source": [
        "plt.plot(history.history['accuracy'], label='accuracy')\n",
        "plt.plot(history.history['val_accuracy'], label = 'val_accuracy')\n",
        "plt.xlabel('Epoch')\n",
        "plt.ylabel('Accuracy')\n",
        "plt.ylim([0, 1])\n",
        "plt.legend(loc='lower right')\n"
      ],
      "execution_count": 12,
      "outputs": [
        {
          "output_type": "execute_result",
          "data": {
            "text/plain": [
              "<matplotlib.legend.Legend at 0x7fc3cc8ee588>"
            ]
          },
          "metadata": {
            "tags": []
          },
          "execution_count": 12
        },
        {
          "output_type": "display_data",
          "data": {
            "image/png": "[encoded data removed]",
            "text/plain": [
              "<Figure size 432x288 with 1 Axes>"
            ]
          },
          "metadata": {
            "tags": [],
            "needs_background": "light"
          }
        }
      ]
    },
    {
      "cell_type": "code",
      "metadata": {
        "id": "flIjexgVBmb3",
        "outputId": "65ecd721-bbea-4bb9-d684-ba4418b321d5",
        "colab": {
          "base_uri": "https://localhost:8080/",
          "height": 105
        }
      },
      "source": [
        "classifier.evaluate_generator(generator=test_generator)"
      ],
      "execution_count": 13,
      "outputs": [
        {
          "output_type": "stream",
          "text": [
            "WARNING:tensorflow:From <ipython-input-13-1c94cb2e724c>:1: Model.evaluate_generator (from tensorflow.python.keras.engine.training) is deprecated and will be removed in a future version.\n",
            "Instructions for updating:\n",
            "Please use Model.evaluate, which supports generators.\n"
          ],
          "name": "stdout"
        },
        {
          "output_type": "execute_result",
          "data": {
            "text/plain": [
              "[1.3996522426605225, 0.5508474707603455]"
            ]
          },
          "metadata": {
            "tags": []
          },
          "execution_count": 13
        }
      ]
    },
    {
      "cell_type": "markdown",
      "metadata": {
        "id": "5y3ruSpPCRJ7"
      },
      "source": [
        "# VGG-16"
      ]
    },
    {
      "cell_type": "code",
      "metadata": {
        "id": "LY1aMDr8pRB1"
      },
      "source": [
        "import keras\n",
        "import tensorflow as tf\n",
        "keras.backend.clear_session()"
      ],
      "execution_count": 14,
      "outputs": []
    },
    {
      "cell_type": "code",
      "metadata": {
        "id": "Lla1iPc3BzX9",
        "outputId": "5e8dbb3b-f66d-4b63-fb4f-77ebedabe152",
        "colab": {
          "base_uri": "https://localhost:8080/",
          "height": 157
        }
      },
      "source": [
        "\n",
        "model_vgg=Sequential()\n",
        "\n",
        "model_vgg.add(Conv2D(filters=64,kernel_size=(3,3),strides=(1,1),activation=\"relu\",input_shape=(224,224,3)))\n",
        "model_vgg.add(Conv2D(filters=64,kernel_size=(3,3),strides=(1,1),activation=\"relu\"))\n",
        "model_vgg.add(MaxPooling2D(pool_size=(2,2),strides=(2,2)))\n",
        "\n",
        "model_vgg.add(Conv2D(filters=128,kernel_size=(3,3),strides=(1,1),activation=\"relu\"))\n",
        "model_vgg.add(Conv2D(filters=128,kernel_size=(3,3),strides=(1,1),activation=\"relu\"))\n",
        "model_vgg.add(MaxPooling2D(pool_size=(2,2),strides=(2,2)))\n",
        "\n",
        "#model_vgg.add(Conv2D(filters=256,kernel_size=(3,3),strides=(1,1),activation=\"relu\"))\n",
        "model_vgg.add(Conv2D(filters=256,kernel_size=(3,3),strides=(1,1),activation=\"relu\"))\n",
        "model_vgg.add(Conv2D(filters=256,kernel_size=(3,3),strides=(1,1),activation=\"relu\"))\n",
        "model_vgg.add(MaxPooling2D(pool_size=(2,2),strides=(2,2)))\n",
        "\n",
        "model_vgg.add(Conv2D(filters=512,kernel_size=(3,3),strides=(1,1),activation=\"relu\"))\n",
        "model_vgg.add(Conv2D(filters=512,kernel_size=(3,3),strides=(1,1),activation=\"relu\"))\n",
        "model_vgg.add(Conv2D(filters=512,kernel_size=(3,3),strides=(1,1),activation=\"relu\"))\n",
        "model_vgg.add(MaxPooling2D(pool_size=(2,2),strides=(2,2)))\n",
        "\n",
        "model_vgg.add(Conv2D(filters=512,kernel_size=(3,3),strides=(1,1),activation=\"relu\"))\n",
        "model_vgg.add(Conv2D(filters=512,kernel_size=(3,3),strides=(1,1),activation=\"relu\"))\n",
        "model_vgg.add(Conv2D(filters=512,kernel_size=(3,3),strides=(1,1),activation=\"relu\"))\n",
        "model_vgg.add(MaxPooling2D(pool_size=(2,2),strides=(2,2)))\n",
        "\n",
        "model_vgg.add(Flatten())\n",
        "model_vgg.add(Dense(units=128,activation=\"relu\"))\n",
        "model_vgg.add(Dense(units=128,activation='relu'))\n",
        "model_vgg.add(Dense(units=2,activation=\"softmax\"))\n",
        "\n",
        "opt = SGD(lr = 0.01, momentum = 0.9)\n",
        "model_vgg.compile(loss='binary_crossentropy',metrics=['accuracy'],optimizer='adam')\n"
      ],
      "execution_count": 15,
      "outputs": [
        {
          "output_type": "execute_result",
          "data": {
            "application/vnd.google.colaboratory.intrinsic+json": {
              "type": "string"
            },
            "text/plain": [
              "\"\\ndef vgg_block(num_convs, num_channels):\\n    blk = Sequential()\\n    for _ in range(num_convs):\\n        blk.add(Conv2D(num_channels, kernel_size=3,\\n                           activation='relu'))\\n    blk.add(MaxPool2D(pool_size=2, strides=2))\\n    return blk\\n\\nconv_arch = ((1, 64), (2, 128), (3, 256), (3, 512), (3, 512))\\ndef vgg(conv_arch):\\n    model_vgg = Sequential()\\n    model_vgg.add(Conv2D(64,kernel_size=3,activation='relu',input_shape=(224,224,3)))\\n    # The convolutional part\\n    for (num_convs, num_channels) in conv_arch:\\n        model_vgg.add(vgg_block(num_convs, num_channels))\\n    # The fully-connected part\\n    model_vgg.add(Dense(4096, activation='relu')) \\n    model_vgg.add(Dropout(0.5))\\n    model_vgg.add(Dense(4096, activation='relu'))\\n    model_vgg.add(Dropout(0.5))\\n    model_vgg.add(Dense(2))\\n    return model_vgg\\n\\nmodel_vgg = vgg(conv_arch)\\nopt = SGD(lr = 0.01, momentum = 0.9)\\nmodel_vgg.compile(loss='binary_crossentropy',metrics=['accuracy'],optimizer=opt)\\n\""
            ]
          },
          "metadata": {
            "tags": []
          },
          "execution_count": 15
        }
      ]
    },
    {
      "cell_type": "code",
      "metadata": {
        "id": "T54u-hDhmQ2g",
        "outputId": "91fbddc2-2f53-4506-93f7-745a93d40724",
        "colab": {
          "base_uri": "https://localhost:8080/",
          "height": 867
        }
      },
      "source": [
        "model_vgg.summary()"
      ],
      "execution_count": 16,
      "outputs": [
        {
          "output_type": "stream",
          "text": [
            "Model: \"sequential\"\n",
            "_________________________________________________________________\n",
            "Layer (type)                 Output Shape              Param #   \n",
            "=================================================================\n",
            "conv2d (Conv2D)              (None, 222, 222, 64)      1792      \n",
            "_________________________________________________________________\n",
            "conv2d_1 (Conv2D)            (None, 220, 220, 64)      36928     \n",
            "_________________________________________________________________\n",
            "max_pooling2d (MaxPooling2D) (None, 110, 110, 64)      0         \n",
            "_________________________________________________________________\n",
            "conv2d_2 (Conv2D)            (None, 108, 108, 128)     73856     \n",
            "_________________________________________________________________\n",
            "conv2d_3 (Conv2D)            (None, 106, 106, 128)     147584    \n",
            "_________________________________________________________________\n",
            "max_pooling2d_1 (MaxPooling2 (None, 53, 53, 128)       0         \n",
            "_________________________________________________________________\n",
            "conv2d_4 (Conv2D)            (None, 51, 51, 256)       295168    \n",
            "_________________________________________________________________\n",
            "conv2d_5 (Conv2D)            (None, 49, 49, 256)       590080    \n",
            "_________________________________________________________________\n",
            "max_pooling2d_2 (MaxPooling2 (None, 24, 24, 256)       0         \n",
            "_________________________________________________________________\n",
            "conv2d_6 (Conv2D)            (None, 22, 22, 512)       1180160   \n",
            "_________________________________________________________________\n",
            "conv2d_7 (Conv2D)            (None, 20, 20, 512)       2359808   \n",
            "_________________________________________________________________\n",
            "conv2d_8 (Conv2D)            (None, 18, 18, 512)       2359808   \n",
            "_________________________________________________________________\n",
            "max_pooling2d_3 (MaxPooling2 (None, 9, 9, 512)         0         \n",
            "_________________________________________________________________\n",
            "conv2d_9 (Conv2D)            (None, 7, 7, 512)         2359808   \n",
            "_________________________________________________________________\n",
            "conv2d_10 (Conv2D)           (None, 5, 5, 512)         2359808   \n",
            "_________________________________________________________________\n",
            "conv2d_11 (Conv2D)           (None, 3, 3, 512)         2359808   \n",
            "_________________________________________________________________\n",
            "max_pooling2d_4 (MaxPooling2 (None, 1, 1, 512)         0         \n",
            "_________________________________________________________________\n",
            "flatten (Flatten)            (None, 512)               0         \n",
            "_________________________________________________________________\n",
            "dense (Dense)                (None, 128)               65664     \n",
            "_________________________________________________________________\n",
            "dense_1 (Dense)              (None, 128)               16512     \n",
            "_________________________________________________________________\n",
            "dense_2 (Dense)              (None, 2)                 258       \n",
            "=================================================================\n",
            "Total params: 14,207,042\n",
            "Trainable params: 14,207,042\n",
            "Non-trainable params: 0\n",
            "_________________________________________________________________\n"
          ],
          "name": "stdout"
        }
      ]
    },
    {
      "cell_type": "code",
      "metadata": {
        "id": "MbNF8Y8mCik-",
        "outputId": "3c08c229-6fde-4079-a050-7e2d9743ae7a",
        "colab": {
          "base_uri": "https://localhost:8080/",
          "height": 734
        }
      },
      "source": [
        "nb_epoch = 20\n",
        "history1 = model_vgg.fit_generator(train_generator,\n",
        "                    epochs=nb_epoch,validation_data = test_generator)"
      ],
      "execution_count": 17,
      "outputs": [
        {
          "output_type": "stream",
          "text": [
            "Epoch 1/20\n",
            " 2/15 [===>..........................] - ETA: 3s - loss: 0.6937 - accuracy: 0.4531WARNING:tensorflow:Callbacks method `on_train_batch_end` is slow compared to the batch time (batch time: 0.1858s vs `on_train_batch_end` time: 0.4078s). Check your callbacks.\n",
            "15/15 [==============================] - 15s 977ms/step - loss: 0.7796 - accuracy: 0.5191 - val_loss: 0.6939 - val_accuracy: 0.4831\n",
            "Epoch 2/20\n",
            "15/15 [==============================] - 9s 614ms/step - loss: 0.6936 - accuracy: 0.5000 - val_loss: 0.6937 - val_accuracy: 0.4831\n",
            "Epoch 3/20\n",
            "15/15 [==============================] - 9s 613ms/step - loss: 0.6933 - accuracy: 0.5000 - val_loss: 0.6937 - val_accuracy: 0.4831\n",
            "Epoch 4/20\n",
            "15/15 [==============================] - 9s 610ms/step - loss: 0.6933 - accuracy: 0.5000 - val_loss: 0.6937 - val_accuracy: 0.4831\n",
            "Epoch 5/20\n",
            "15/15 [==============================] - 9s 613ms/step - loss: 0.6937 - accuracy: 0.5000 - val_loss: 0.6939 - val_accuracy: 0.4831\n",
            "Epoch 6/20\n",
            "15/15 [==============================] - 9s 611ms/step - loss: 0.6932 - accuracy: 0.5000 - val_loss: 0.6936 - val_accuracy: 0.4831\n",
            "Epoch 7/20\n",
            "15/15 [==============================] - 9s 612ms/step - loss: 0.6934 - accuracy: 0.4745 - val_loss: 0.6931 - val_accuracy: 0.5169\n",
            "Epoch 8/20\n",
            "15/15 [==============================] - 9s 613ms/step - loss: 0.6932 - accuracy: 0.4617 - val_loss: 0.6931 - val_accuracy: 0.4831\n",
            "Epoch 9/20\n",
            "15/15 [==============================] - 9s 609ms/step - loss: 0.6934 - accuracy: 0.5000 - val_loss: 0.6935 - val_accuracy: 0.4831\n",
            "Epoch 10/20\n",
            "15/15 [==============================] - 9s 613ms/step - loss: 0.6933 - accuracy: 0.4830 - val_loss: 0.6931 - val_accuracy: 0.5169\n",
            "Epoch 11/20\n",
            "15/15 [==============================] - 9s 608ms/step - loss: 0.6932 - accuracy: 0.5000 - val_loss: 0.6931 - val_accuracy: 0.5169\n",
            "Epoch 12/20\n",
            "15/15 [==============================] - 9s 609ms/step - loss: 0.6934 - accuracy: 0.4617 - val_loss: 0.6933 - val_accuracy: 0.4831\n",
            "Epoch 13/20\n",
            "15/15 [==============================] - 9s 608ms/step - loss: 0.6933 - accuracy: 0.4830 - val_loss: 0.6931 - val_accuracy: 0.5169\n",
            "Epoch 14/20\n",
            "15/15 [==============================] - 9s 607ms/step - loss: 0.6932 - accuracy: 0.4787 - val_loss: 0.6932 - val_accuracy: 0.4831\n",
            "Epoch 15/20\n",
            "15/15 [==============================] - 9s 608ms/step - loss: 0.6932 - accuracy: 0.4660 - val_loss: 0.6932 - val_accuracy: 0.4831\n",
            "Epoch 16/20\n",
            "15/15 [==============================] - 9s 611ms/step - loss: 0.6932 - accuracy: 0.5000 - val_loss: 0.6933 - val_accuracy: 0.4831\n",
            "Epoch 17/20\n",
            "15/15 [==============================] - 9s 612ms/step - loss: 0.6932 - accuracy: 0.5000 - val_loss: 0.6932 - val_accuracy: 0.4831\n",
            "Epoch 18/20\n",
            "15/15 [==============================] - 9s 609ms/step - loss: 0.6932 - accuracy: 0.5000 - val_loss: 0.6931 - val_accuracy: 0.5169\n",
            "Epoch 19/20\n",
            "15/15 [==============================] - 9s 608ms/step - loss: 0.6933 - accuracy: 0.5000 - val_loss: 0.6930 - val_accuracy: 0.5169\n",
            "Epoch 20/20\n",
            "15/15 [==============================] - 9s 609ms/step - loss: 0.6933 - accuracy: 0.4745 - val_loss: 0.6933 - val_accuracy: 0.4831\n"
          ],
          "name": "stdout"
        }
      ]
    },
    {
      "cell_type": "code",
      "metadata": {
        "id": "E8Pfcr5tCsqM",
        "outputId": "8c427a31-f82b-4c5d-ae89-9065c4ce1ebf",
        "colab": {
          "base_uri": "https://localhost:8080/",
          "height": 300
        }
      },
      "source": [
        "plt.plot(history1.history['accuracy'], label='accuracy')\n",
        "plt.plot(history1.history['val_accuracy'], label = 'val_accuracy')\n",
        "plt.xlabel('Epoch')\n",
        "plt.ylabel('Accuracy')\n",
        "plt.ylim([0, 1])\n",
        "plt.legend(loc='lower right')"
      ],
      "execution_count": 18,
      "outputs": [
        {
          "output_type": "execute_result",
          "data": {
            "text/plain": [
              "<matplotlib.legend.Legend at 0x7fc3cb078518>"
            ]
          },
          "metadata": {
            "tags": []
          },
          "execution_count": 18
        },
        {
          "output_type": "display_data",
          "data": {
            "image/png": "[encoded data removed]",
            "text/plain": [
              "<Figure size 432x288 with 1 Axes>"
            ]
          },
          "metadata": {
            "tags": [],
            "needs_background": "light"
          }
        }
      ]
    },
    {
      "cell_type": "code",
      "metadata": {
        "id": "CYQrA_bKC4FM",
        "outputId": "56798af2-333f-4871-f574-acb6cb7b096b",
        "colab": {
          "base_uri": "https://localhost:8080/",
          "height": 34
        }
      },
      "source": [
        "model_vgg.evaluate_generator(generator=test_generator)"
      ],
      "execution_count": 19,
      "outputs": [
        {
          "output_type": "execute_result",
          "data": {
            "text/plain": [
              "[0.6932846307754517, 0.4830508530139923]"
            ]
          },
          "metadata": {
            "tags": []
          },
          "execution_count": 19
        }
      ]
    },
    {
      "cell_type": "markdown",
      "metadata": {
        "id": "rr6g5rSPDL4t"
      },
      "source": [
        "# AlexNet"
      ]
    },
    {
      "cell_type": "code",
      "metadata": {
        "id": "gdcrVrItpd8y"
      },
      "source": [
        "import keras\n",
        "import tensorflow as tf\n",
        "keras.backend.clear_session()"
      ],
      "execution_count": 20,
      "outputs": []
    },
    {
      "cell_type": "code",
      "metadata": {
        "id": "k09YNGecDD1I",
        "outputId": "008a9a92-7f76-4207-beed-fffaff367764",
        "colab": {
          "base_uri": "https://localhost:8080/",
          "height": 157
        }
      },
      "source": [
        "\n",
        "model_alex=Sequential()\n",
        "\n",
        "model_alex.add(Conv2D(filters=96,kernel_size=(11,11),strides=(4,4),activation=\"relu\",input_shape=(224,224,3)))\n",
        "#model_alex.add(Conv2D(filters=64,kernel_size=(3,3),strides=(2,2),padding=\"same\",activation=\"relu\"))\n",
        "model_alex.add(MaxPooling2D(pool_size=(3,3), strides=(2,2)))\n",
        "\n",
        "model_alex.add(Conv2D(filters=256,kernel_size=(5,5),strides=(1,1),activation=\"relu\"))\n",
        "#model_alex.add(Conv2D(filters=128,kernel_size=(3,3),strides=(2,2),padding=\"same\",activation=\"relu\"))\n",
        "model_alex.add(MaxPooling2D(pool_size=(3,3), strides=(2,2)))\n",
        "\n",
        "model_alex.add(Conv2D(filters=384,kernel_size=(3,3),strides=(1,1),activation=\"relu\"))\n",
        "model_alex.add(Conv2D(filters=384,kernel_size=(3,3),strides=(1,1),activation=\"relu\"))\n",
        "model_alex.add(Conv2D(filters=256,kernel_size=(3,3),strides=(1,1),activation=\"relu\"))\n",
        "model_alex.add(MaxPooling2D(pool_size=(3,3), strides=(2,2)))\n",
        "\n",
        "model_alex.add(Flatten())\n",
        "model_alex.add(Dense(units=128,input_shape=(224*224*3,),activation='relu'))\n",
        "model_alex.add(Dropout(0.5))\n",
        "model_alex.add(Dense(units=128,activation='relu'))\n",
        "model_alex.add(Dropout(0.5))\n",
        "model_alex.add(Dense(units=64,activation='relu'))\n",
        "model_alex.add(Dropout(0.5))\n",
        "model_alex.add(Dense(units=2,activation='softmax'))\n",
        "\n",
        "#opt = SGD(lr = 0.001, momentum = 0.9)\n",
        "model_alex.compile(loss='binary_crossentropy',metrics=['accuracy'],optimizer='adam')\n"
      ],
      "execution_count": 21,
      "outputs": [
        {
          "output_type": "execute_result",
          "data": {
            "application/vnd.google.colaboratory.intrinsic+json": {
              "type": "string"
            },
            "text/plain": [
              "\"\\nmodel_alex = Sequential()\\n# Here, we use a larger 11 x 11 window to capture objects. At the same time,\\n# we use a stride of 4 to greatly reduce the height and width of the output.\\n# Here, the number of output channels is much larger than that in LeNet\\nmodel_alex.add(Conv2D(96, kernel_size=11, strides=4, activation='relu',input_shape=(224,224,3)))\\nmodel_alex.add(MaxPool2D(pool_size=3, strides=2))\\n        # Make the convolution window smaller, set padding to 2 for consistent\\n        # height and width across the input and output, and increase the\\n        # number of output channels\\nmodel_alex.add(Conv2D(256, kernel_size=5, activation='relu'))\\nmodel_alex.add(MaxPool2D(pool_size=3, strides=2))\\n        # Use three successive convolutional layers and a smaller convolution\\n        # window. Except for the final convolutional layer, the number of\\n        # output channels is further increased. Pooling layers are not used to\\n        # reduce the height and width of input after the first two\\n        # convolutional layers\\nmodel_alex.add(Conv2D(384, kernel_size=3, activation='relu'))\\nmodel_alex.add(Conv2D(384, kernel_size=3, activation='relu'))\\nmodel_alex.add(Conv2D(256, kernel_size=3, activation='relu'))\\nmodel_alex.add(MaxPool2D(pool_size=3, strides=2))\\n        # Here, the number of outputs of the fully-connected layer is several\\n        # times larger than that in LeNet. Use the dropout layer to mitigate\\n        # overfitting\\nmodel_alex.add(Dense(4096, activation='relu')) \\nmodel_alex.add(Dropout(0.5))\\nmodel_alex.add(Dense(4096, activation='relu')) \\nmodel_alex.add(Dropout(0.5))\\n        # Output layer. Since we are using Fashion-MNIST, the number of\\n        # classes is 10, instead of 1000 as in the paper\\nmodel_alex.add(Dense(2))\\n\\nmodel_alex.compile(loss='binary_crossentropy',metrics=['accuracy'],optimizer='adam')\\n\""
            ]
          },
          "metadata": {
            "tags": []
          },
          "execution_count": 21
        }
      ]
    },
    {
      "cell_type": "code",
      "metadata": {
        "id": "7DwG4zH0o8j6",
        "outputId": "a693784b-9afa-427a-f32c-2d0ba3ee54a4",
        "colab": {
          "base_uri": "https://localhost:8080/",
          "height": 697
        }
      },
      "source": [
        "model_alex.summary()"
      ],
      "execution_count": 22,
      "outputs": [
        {
          "output_type": "stream",
          "text": [
            "Model: \"sequential\"\n",
            "_________________________________________________________________\n",
            "Layer (type)                 Output Shape              Param #   \n",
            "=================================================================\n",
            "conv2d (Conv2D)              (None, 54, 54, 96)        34944     \n",
            "_________________________________________________________________\n",
            "max_pooling2d (MaxPooling2D) (None, 26, 26, 96)        0         \n",
            "_________________________________________________________________\n",
            "conv2d_1 (Conv2D)            (None, 22, 22, 256)       614656    \n",
            "_________________________________________________________________\n",
            "max_pooling2d_1 (MaxPooling2 (None, 10, 10, 256)       0         \n",
            "_________________________________________________________________\n",
            "conv2d_2 (Conv2D)            (None, 8, 8, 384)         885120    \n",
            "_________________________________________________________________\n",
            "conv2d_3 (Conv2D)            (None, 6, 6, 384)         1327488   \n",
            "_________________________________________________________________\n",
            "conv2d_4 (Conv2D)            (None, 4, 4, 256)         884992    \n",
            "_________________________________________________________________\n",
            "max_pooling2d_2 (MaxPooling2 (None, 1, 1, 256)         0         \n",
            "_________________________________________________________________\n",
            "flatten (Flatten)            (None, 256)               0         \n",
            "_________________________________________________________________\n",
            "dense (Dense)                (None, 128)               32896     \n",
            "_________________________________________________________________\n",
            "dropout (Dropout)            (None, 128)               0         \n",
            "_________________________________________________________________\n",
            "dense_1 (Dense)              (None, 128)               16512     \n",
            "_________________________________________________________________\n",
            "dropout_1 (Dropout)          (None, 128)               0         \n",
            "_________________________________________________________________\n",
            "dense_2 (Dense)              (None, 64)                8256      \n",
            "_________________________________________________________________\n",
            "dropout_2 (Dropout)          (None, 64)                0         \n",
            "_________________________________________________________________\n",
            "dense_3 (Dense)              (None, 2)                 130       \n",
            "=================================================================\n",
            "Total params: 3,804,994\n",
            "Trainable params: 3,804,994\n",
            "Non-trainable params: 0\n",
            "_________________________________________________________________\n"
          ],
          "name": "stdout"
        }
      ]
    },
    {
      "cell_type": "code",
      "metadata": {
        "id": "XKh9MWB4DevH",
        "outputId": "20cd1586-ff61-45cc-c336-8a8193e24aa4",
        "colab": {
          "base_uri": "https://localhost:8080/",
          "height": 697
        }
      },
      "source": [
        "nb_epoch = 20\n",
        "history2 = model_alex.fit_generator(train_generator,\n",
        "                    epochs=nb_epoch,validation_data = test_generator)"
      ],
      "execution_count": 23,
      "outputs": [
        {
          "output_type": "stream",
          "text": [
            "Epoch 1/20\n",
            "15/15 [==============================] - 2s 108ms/step - loss: 0.6957 - accuracy: 0.5021 - val_loss: 0.6935 - val_accuracy: 0.4831\n",
            "Epoch 2/20\n",
            "15/15 [==============================] - 1s 60ms/step - loss: 0.6944 - accuracy: 0.4915 - val_loss: 0.6931 - val_accuracy: 0.5169\n",
            "Epoch 3/20\n",
            "15/15 [==============================] - 1s 57ms/step - loss: 0.6929 - accuracy: 0.5191 - val_loss: 0.6934 - val_accuracy: 0.4831\n",
            "Epoch 4/20\n",
            "15/15 [==============================] - 1s 59ms/step - loss: 0.6943 - accuracy: 0.5213 - val_loss: 0.6938 - val_accuracy: 0.4831\n",
            "Epoch 5/20\n",
            "15/15 [==============================] - 1s 58ms/step - loss: 0.6931 - accuracy: 0.5085 - val_loss: 0.6930 - val_accuracy: 0.5169\n",
            "Epoch 6/20\n",
            "15/15 [==============================] - 1s 59ms/step - loss: 0.6959 - accuracy: 0.4809 - val_loss: 0.6930 - val_accuracy: 0.5169\n",
            "Epoch 7/20\n",
            "15/15 [==============================] - 1s 61ms/step - loss: 0.6929 - accuracy: 0.5085 - val_loss: 0.6933 - val_accuracy: 0.4831\n",
            "Epoch 8/20\n",
            "15/15 [==============================] - 1s 58ms/step - loss: 0.6942 - accuracy: 0.5000 - val_loss: 0.6938 - val_accuracy: 0.4831\n",
            "Epoch 9/20\n",
            "15/15 [==============================] - 1s 59ms/step - loss: 0.6945 - accuracy: 0.5000 - val_loss: 0.6932 - val_accuracy: 0.4831\n",
            "Epoch 10/20\n",
            "15/15 [==============================] - 1s 60ms/step - loss: 0.6928 - accuracy: 0.4979 - val_loss: 0.6932 - val_accuracy: 0.4831\n",
            "Epoch 11/20\n",
            "15/15 [==============================] - 1s 59ms/step - loss: 0.6938 - accuracy: 0.4851 - val_loss: 0.6935 - val_accuracy: 0.4831\n",
            "Epoch 12/20\n",
            "15/15 [==============================] - 1s 59ms/step - loss: 0.6947 - accuracy: 0.4851 - val_loss: 0.6937 - val_accuracy: 0.4831\n",
            "Epoch 13/20\n",
            "15/15 [==============================] - 1s 60ms/step - loss: 0.6942 - accuracy: 0.4872 - val_loss: 0.6930 - val_accuracy: 0.5169\n",
            "Epoch 14/20\n",
            "15/15 [==============================] - 1s 59ms/step - loss: 0.6947 - accuracy: 0.4745 - val_loss: 0.6930 - val_accuracy: 0.5169\n",
            "Epoch 15/20\n",
            "15/15 [==============================] - 1s 61ms/step - loss: 0.6934 - accuracy: 0.5234 - val_loss: 0.6928 - val_accuracy: 0.5169\n",
            "Epoch 16/20\n",
            "15/15 [==============================] - 1s 61ms/step - loss: 0.6932 - accuracy: 0.5064 - val_loss: 0.6930 - val_accuracy: 0.5169\n",
            "Epoch 17/20\n",
            "15/15 [==============================] - 1s 59ms/step - loss: 0.6937 - accuracy: 0.4851 - val_loss: 0.6931 - val_accuracy: 0.5169\n",
            "Epoch 18/20\n",
            "15/15 [==============================] - 1s 60ms/step - loss: 0.6938 - accuracy: 0.4681 - val_loss: 0.6930 - val_accuracy: 0.5169\n",
            "Epoch 19/20\n",
            "15/15 [==============================] - 1s 59ms/step - loss: 0.6936 - accuracy: 0.4979 - val_loss: 0.6931 - val_accuracy: 0.5169\n",
            "Epoch 20/20\n",
            "15/15 [==============================] - 1s 60ms/step - loss: 0.6949 - accuracy: 0.4660 - val_loss: 0.6934 - val_accuracy: 0.4831\n"
          ],
          "name": "stdout"
        }
      ]
    },
    {
      "cell_type": "code",
      "metadata": {
        "id": "c6g7VtWODm_3",
        "outputId": "5930454a-fbda-4d6c-bd28-c6ddea868bd1",
        "colab": {
          "base_uri": "https://localhost:8080/",
          "height": 300
        }
      },
      "source": [
        "plt.plot(history2.history['accuracy'], label='accuracy')\n",
        "plt.plot(history2.history['val_accuracy'], label = 'val_accuracy')\n",
        "plt.xlabel('Epoch')\n",
        "plt.ylabel('Accuracy')\n",
        "plt.ylim([0, 0.8])\n",
        "plt.legend(loc='lower right')"
      ],
      "execution_count": 24,
      "outputs": [
        {
          "output_type": "execute_result",
          "data": {
            "text/plain": [
              "<matplotlib.legend.Legend at 0x7fc3c9d2e438>"
            ]
          },
          "metadata": {
            "tags": []
          },
          "execution_count": 24
        },
        {
          "output_type": "display_data",
          "data": {
            "image/png": "[encoded data removed]",
            "text/plain": [
              "<Figure size 432x288 with 1 Axes>"
            ]
          },
          "metadata": {
            "tags": [],
            "needs_background": "light"
          }
        }
      ]
    },
    {
      "cell_type": "code",
      "metadata": {
        "id": "NuUmu5bKD1fb",
        "outputId": "b0c674d2-1f67-45af-aa37-f3bf4ba01594",
        "colab": {
          "base_uri": "https://localhost:8080/",
          "height": 34
        }
      },
      "source": [
        "model_alex.evaluate_generator(generator=test_generator)"
      ],
      "execution_count": 25,
      "outputs": [
        {
          "output_type": "execute_result",
          "data": {
            "text/plain": [
              "[0.6933767795562744, 0.4830508530139923]"
            ]
          },
          "metadata": {
            "tags": []
          },
          "execution_count": 25
        }
      ]
    },
    {
      "cell_type": "code",
      "metadata": {
        "id": "0YLTdWQUD54b"
      },
      "source": [
        ""
      ],
      "execution_count": 25,
      "outputs": []
    }
  ]
}